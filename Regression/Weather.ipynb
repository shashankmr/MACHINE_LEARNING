{
 "cells": [
  {
   "cell_type": "code",
   "execution_count": 1,
   "metadata": {},
   "outputs": [],
   "source": [
    "import pandas as pd\n",
    "import sklearn as sk\n",
    "import numpy as np"
   ]
  },
  {
   "cell_type": "code",
   "execution_count": 2,
   "metadata": {},
   "outputs": [],
   "source": [
    "    training_data = [[['sunny'],'no'],\n",
    "                 [['rainy'],'yes'],\n",
    "                 [['overcast'],'yes'],\n",
    "                 [['sunny'],'yes'],\n",
    "                 [['sunny'],'yes'],\n",
    "                 [['overcast'],'yes'], \n",
    "                 [['rainy'],'no'],\n",
    "                 [['rainy'],'no'],\n",
    "                 [['sunny'],'yes'],\n",
    "                 [['rainy'],'yes'],\n",
    "                 [['sunny'],'no'],\n",
    "                 [['overcast'],'yes'],\n",
    "                 [['overcast'],'yes'],\n",
    "                 [['rainy'],'no']]"
   ]
  },
  {
   "cell_type": "code",
   "execution_count": 3,
   "metadata": {},
   "outputs": [],
   "source": [
    "from sklearn import naive_bayes as bn\n",
    "bnb = bn.GaussianNB()\n"
   ]
  },
  {
   "cell_type": "code",
   "execution_count": 4,
   "metadata": {},
   "outputs": [
    {
     "data": {
      "text/plain": [
       "['sunny']"
      ]
     },
     "execution_count": 4,
     "metadata": {},
     "output_type": "execute_result"
    }
   ],
   "source": [
    "training_data[0][0]"
   ]
  },
  {
   "cell_type": "code",
   "execution_count": 5,
   "metadata": {},
   "outputs": [],
   "source": [
    "import numpy as np\n",
    "n = np.asarray(training_data)\n"
   ]
  },
  {
   "cell_type": "code",
   "execution_count": 6,
   "metadata": {},
   "outputs": [],
   "source": [
    "i = n[:,0]\n"
   ]
  },
  {
   "cell_type": "code",
   "execution_count": 9,
   "metadata": {},
   "outputs": [
    {
     "data": {
      "text/plain": [
       "['sunny',\n",
       " 'rainy',\n",
       " 'overcast',\n",
       " 'sunny',\n",
       " 'sunny',\n",
       " 'overcast',\n",
       " 'rainy',\n",
       " 'rainy',\n",
       " 'sunny',\n",
       " 'rainy',\n",
       " 'sunny',\n",
       " 'overcast',\n",
       " 'overcast',\n",
       " 'rainy']"
      ]
     },
     "execution_count": 9,
     "metadata": {},
     "output_type": "execute_result"
    }
   ],
   "source": [
    "answer_list = []\n",
    "for i in n[:,0]:\n",
    "    if (i[0]) =='sunny':\n",
    "        answer_list.append('sunny')\n",
    "    elif (i[0]) == 'rainy':\n",
    "        answer_list.append('rainy')\n",
    "    else:\n",
    "        answer_list.append('overcast')\n",
    "answer_list\n",
    "\n",
    "\n",
    "# for i in n[:,0]:\n",
    "#     print(i[0])"
   ]
  },
  {
   "cell_type": "code",
   "execution_count": null,
   "metadata": {},
   "outputs": [],
   "source": [
    "n[:,1]"
   ]
  },
  {
   "cell_type": "code",
   "execution_count": null,
   "metadata": {},
   "outputs": [],
   "source": [
    "answer_list2 = []\n",
    "for i in n[:,1]:\n",
    "    if (i) ==  'no':\n",
    "        answer_list2.append(0)\n",
    "    else:\n",
    "        answer_list2.append(1)\n",
    "\n",
    "answer_list1 = np.reshape(answer_list,(-1,1))\n",
    "print(answer_list1)"
   ]
  },
  {
   "cell_type": "code",
   "execution_count": null,
   "metadata": {},
   "outputs": [],
   "source": [
    "bnb.fit(answer_list1,answer_list2)"
   ]
  },
  {
   "cell_type": "code",
   "execution_count": null,
   "metadata": {},
   "outputs": [],
   "source": [
    "bnb.predict_proba(0)"
   ]
  },
  {
   "cell_type": "code",
   "execution_count": null,
   "metadata": {},
   "outputs": [],
   "source": []
  }
 ],
 "metadata": {
  "kernelspec": {
   "display_name": "Python 3",
   "language": "python",
   "name": "python3"
  },
  "language_info": {
   "codemirror_mode": {
    "name": "ipython",
    "version": 3
   },
   "file_extension": ".py",
   "mimetype": "text/x-python",
   "name": "python",
   "nbconvert_exporter": "python",
   "pygments_lexer": "ipython3",
   "version": "3.6.6"
  }
 },
 "nbformat": 4,
 "nbformat_minor": 2
}
